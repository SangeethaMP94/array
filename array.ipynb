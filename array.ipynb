{
  "nbformat": 4,
  "nbformat_minor": 0,
  "metadata": {
    "colab": {
      "provenance": []
    },
    "kernelspec": {
      "name": "python3",
      "display_name": "Python 3"
    },
    "language_info": {
      "name": "python"
    }
  },
  "cells": [
    {
      "cell_type": "markdown",
      "source": [
        "you are given with array of numbers.you have to find whether array is beautiful or not. A beautiful array is an array whose sum of all numbers is divisible by 2, 3 and 5\n",
        "\n",
        "Input Description:\n",
        "\n",
        "You are given a number ‘n’ denoting the size of array.Next line contains n /space separated numbers.\n",
        "\n",
        "Output Description:\n",
        "\n",
        "Print 1 if array is beautiful and 0 if it is not\n",
        "\n",
        "Sample Input :\n",
        "\n",
        "5\n",
        "\n",
        "5 25 35 -5 30\n",
        "\n",
        "Sample Output :\n",
        "\n",
        "1"
      ],
      "metadata": {
        "id": "fZxWuCC9rNwA"
      }
    },
    {
      "cell_type": "code",
      "execution_count": null,
      "metadata": {
        "colab": {
          "base_uri": "https://localhost:8080/"
        },
        "id": "NFDDsX95pUIm",
        "outputId": "a757d9a3-8a45-45f9-f2f3-3ec3f107a0be"
      },
      "outputs": [
        {
          "output_type": "stream",
          "name": "stdout",
          "text": [
            "5\n",
            "5 25 35 -5 30\n",
            "1\n"
          ]
        }
      ],
      "source": [
        "a = int(input())\n",
        "b = list(map(int,input().split()))\n",
        "sum = 0\n",
        "for i in b:\n",
        "  sum = sum+i\n",
        "if sum%2==0 and sum %3==0 and sum%5==0:\n",
        "  print(\"1\")\n",
        "else:\n",
        "  print(0)"
      ]
    },
    {
      "cell_type": "markdown",
      "source": [
        "You are a passport issuer, but due to some problems in the system, there are redundant  passport numbers. Your task is to delete all the duplicate passport numbers. You are given a list of passport numbers.\n",
        "\n",
        "Input Description:\n",
        "\n",
        "You are given length of list.Second line,You are given with a list.\n",
        "\n",
        "Output Description:\n",
        "\n",
        "Print the list of passport numbers without duplicates.\n",
        "\n",
        "Sample Input :\n",
        "\n",
        "5\n",
        "\n",
        "A23 B56 B56 C79 D16\n",
        "\n",
        "Sample Output :\n",
        "\n",
        "A23 B56 C79 D16"
      ],
      "metadata": {
        "id": "CMNoWeEYren3"
      }
    },
    {
      "cell_type": "code",
      "source": [
        "a = int(input())\n",
        "b = list(map(str,input().split()))\n",
        "c = []\n",
        "for i in b:\n",
        "  if i not in c:\n",
        "    c.append(i)\n",
        "  else:\n",
        "    pass\n",
        "print(*c)"
      ],
      "metadata": {
        "colab": {
          "base_uri": "https://localhost:8080/"
        },
        "id": "82dxjeTGrnsV",
        "outputId": "37100121-ef31-4d37-d8a8-1410bc52e1bc"
      },
      "execution_count": null,
      "outputs": [
        {
          "output_type": "stream",
          "name": "stdout",
          "text": [
            "5\n",
            "A23 B56 B56 C79 D16\n",
            "A23 B56 C79 D16\n"
          ]
        }
      ]
    },
    {
      "cell_type": "markdown",
      "source": [
        "You are given with an array. For each element present in the array your task is to print the next smallest than that number. If it is not smallest print -1\n",
        "\n",
        "Input Description:\n",
        "\n",
        "You are given a number ‘n’ representing size of array. And n space separated numbers.\n",
        "\n",
        "Output Description:\n",
        "\n",
        "Print the next smallest number present in array and -1 if no smallest is present\n",
        "\n",
        "Sample Input :\n",
        "\n",
        "7\n",
        "\n",
        "10 7 9 3 2 1 15\n",
        "\n",
        "Sample Output :\n",
        "\n",
        "7 3 3 2 1 -1 -1"
      ],
      "metadata": {
        "id": "MeRYyggxrt02"
      }
    },
    {
      "cell_type": "code",
      "source": [
        "n = int(input())\n",
        "a = list(map(int,input().split()))\n",
        "b = []\n",
        "for i in range(len(a)):\n",
        "  m = -1\n",
        "  for j in range(i+1,len(a)):\n",
        "    if a[i]>a[j]:\n",
        "      m = a[j]\n",
        "      break\n",
        "  b.append(m)\n",
        "print(*b)"
      ],
      "metadata": {
        "colab": {
          "base_uri": "https://localhost:8080/"
        },
        "id": "VD88r4gTr2N0",
        "outputId": "eff7238f-dfd1-4307-dc62-50e9f0c707fa"
      },
      "execution_count": null,
      "outputs": [
        {
          "output_type": "stream",
          "name": "stdout",
          "text": [
            "7\n",
            "10 7 9 3 2 1 15\n",
            "7 3 3 2 1 -1 -1\n"
          ]
        }
      ]
    },
    {
      "cell_type": "markdown",
      "source": [
        "You are given with two arrays. Your task is to merge the array such that first array is in ascending order and second one in descending order.\n",
        "\n",
        "Input Description:\n",
        "\n",
        "First line contains two integer ‘n’ and ‘m’. ‘n’ denotes length of array 1 and ‘m’ of array 2.Next line contains n space separated numbers and third line contains ‘m’ space separated numbers\n",
        "\n",
        "Output Description:\n",
        "\n",
        "Print a single array in desired order\n",
        "\n",
        "Sample Input :\n",
        "\n",
        "3 3\n",
        "\n",
        "23 15 16\n",
        "\n",
        "357 65 10\n",
        "\n",
        "Sample Output :\n",
        "\n",
        "15 16 23 357 65 10"
      ],
      "metadata": {
        "id": "NdO5t-BrsBHj"
      }
    },
    {
      "cell_type": "code",
      "source": [
        "n,m = list(map(int,input().split()))\n",
        "a = list(map(int,input().split()))\n",
        "b = list(map(int,input().split()))\n",
        "c = sorted(a)\n",
        "d = sorted(b, reverse = True)\n",
        "for i in d:\n",
        "  c.append(i)\n",
        "print(*c)"
      ],
      "metadata": {
        "colab": {
          "base_uri": "https://localhost:8080/"
        },
        "id": "mtAjbOkDr89i",
        "outputId": "54622b9b-1331-492f-da06-6b23f74390fc"
      },
      "execution_count": null,
      "outputs": [
        {
          "output_type": "stream",
          "name": "stdout",
          "text": [
            "3 3 \n",
            "23 15 16\n",
            "357 65 10\n",
            "15 16 23 357 65 10\n"
          ]
        }
      ]
    },
    {
      "cell_type": "markdown",
      "source": [
        "You are provided with an array in which all elements are repeated thrice except one which is repeated twice.Your task is to print that number.\n",
        "\n",
        "\n",
        "\n",
        "O(n) time and O(1) extra space\n",
        "\n",
        "Input Description:\n",
        "\n",
        "First line contains a number denoting size of array ‘n’.Next line contains n space separated numbers\n",
        "\n",
        "Output Description:\n",
        "\n",
        "Print the number which is repeated twice\n",
        "\n",
        "Sample Input :\n",
        "\n",
        "5\n",
        "\n",
        "13 12 13 12 13\n",
        "\n",
        "Sample Output :\n",
        "\n",
        "12"
      ],
      "metadata": {
        "id": "pmjAiMbZsRiG"
      }
    },
    {
      "cell_type": "code",
      "source": [
        "a = int(input())\n",
        "b = list(map(int,input().split()))\n",
        "c = []\n",
        "d = []\n",
        "e = []\n",
        "\n",
        "for i in b:\n",
        "  if i not in c:\n",
        "    c.append(i)\n",
        "  else:\n",
        "    d.append(i)\n",
        "for i in d:\n",
        "  if d.count(i) == 1:\n",
        "    e.append(i)\n",
        "print(*e)"
      ],
      "metadata": {
        "colab": {
          "base_uri": "https://localhost:8080/"
        },
        "id": "ijcIoElgsj3T",
        "outputId": "84408937-4cda-4669-db3f-67473920659b"
      },
      "execution_count": null,
      "outputs": [
        {
          "output_type": "stream",
          "name": "stdout",
          "text": [
            "5\n",
            "13 12 13 12 13\n",
            "12\n"
          ]
        }
      ]
    },
    {
      "cell_type": "markdown",
      "source": [
        "Given 2 numbers N and K followed by elements of N .Print 'yes' if K exists else print 'no'.\n",
        "\n",
        "Sample Testcase :\n",
        "\n",
        "INPUT\n",
        "\n",
        "4 2\n",
        "\n",
        "1 2 3 3\n",
        "\n",
        "OUTPUT\n",
        "\n",
        "yes"
      ],
      "metadata": {
        "id": "iAp0_gVssrax"
      }
    },
    {
      "cell_type": "code",
      "source": [
        "N,K = list(map(int,input().split()))\n",
        "a = list(map(int,input().split()))\n",
        "m = []\n",
        "for i in a:\n",
        "  if i == K:\n",
        "    m.append(i)\n",
        "  else:\n",
        "    pass\n",
        "if len(m)>0:\n",
        "  print(\"yes\")\n",
        "else:\n",
        "  print(\"no\")"
      ],
      "metadata": {
        "colab": {
          "base_uri": "https://localhost:8080/"
        },
        "id": "iCtm_xNWsyHV",
        "outputId": "4839ef51-944f-452f-e150-c773a2be2aae"
      },
      "execution_count": null,
      "outputs": [
        {
          "output_type": "stream",
          "name": "stdout",
          "text": [
            "4 2\n",
            "1 2 3 3\n",
            "yes\n"
          ]
        }
      ]
    },
    {
      "cell_type": "markdown",
      "source": [
        "A person saves his monthly saving according to given schema. He saves same amount of money which is equal to the money saved in immediate previous two months. Assume, initially he saved 1000 rupees and in first month he saved another 1000. Your task is to tell how much he had totally saved at the end of ‘n’ months\n",
        "\n",
        "Input Description:\n",
        "\n",
        "You will be given a number ‘n’->No. of months\n",
        "\n",
        "Output Description:\n",
        "\n",
        "Print the total savings at the end of ‘n’ months\n",
        "\n",
        "Sample Input :\n",
        "\n",
        "1\n",
        "\n",
        "Sample Output :\n",
        "\n",
        "2000"
      ],
      "metadata": {
        "id": "pQGVlWc1s_k2"
      }
    },
    {
      "cell_type": "code",
      "source": [
        "n = int(input())\n",
        "t = 1000\n",
        "for i in range(1,n+1):\n",
        "  i = i * 1000\n",
        "  t = t + i\n",
        "print(t)"
      ],
      "metadata": {
        "colab": {
          "base_uri": "https://localhost:8080/"
        },
        "id": "Trv_8H1fs_Tq",
        "outputId": "28b13f17-c921-4b80-acd5-714e0293a3f8"
      },
      "execution_count": null,
      "outputs": [
        {
          "output_type": "stream",
          "name": "stdout",
          "text": [
            "1\n",
            "2000\n"
          ]
        }
      ]
    },
    {
      "cell_type": "markdown",
      "source": [
        "You are given with an array of numbers, Your task is to print the difference of indices of largest and smallest number.All number are unique.\n",
        "\n",
        "Input Description:\n",
        "\n",
        "First line contains a number ‘n’. Then next line contains n space separated numbers.\n",
        "\n",
        "Output Description:\n",
        "\n",
        "Print the difference of indices of largest and smallest array\n",
        "\n",
        "Sample Input :\n",
        "\n",
        "5\n",
        "\n",
        "1 6 4 0 3\n",
        "\n",
        "Sample Output :\n",
        "\n",
        "-2"
      ],
      "metadata": {
        "id": "EaUy-UJQtH7i"
      }
    },
    {
      "cell_type": "code",
      "source": [
        "a = int(input())\n",
        "b = list(map(int,input().split()))\n",
        "c = max(b)\n",
        "d = min(b)\n",
        "e = []\n",
        "f = []\n",
        "sub = []\n",
        "for i,j in enumerate(b):\n",
        "  if c == j:\n",
        "    e.append(i)\n",
        "  if d == j :\n",
        "    f.append(i)\n",
        "for i,j in zip(e,f):\n",
        "  sub.append(i-j)\n",
        "print(*sub)"
      ],
      "metadata": {
        "colab": {
          "base_uri": "https://localhost:8080/"
        },
        "id": "ylohvwvBs6U_",
        "outputId": "0b467b4c-2b03-4541-f8a2-88df9be5c834"
      },
      "execution_count": null,
      "outputs": [
        {
          "output_type": "stream",
          "name": "stdout",
          "text": [
            "5\n",
            "1 6 4 0 3\n",
            "-2\n"
          ]
        }
      ]
    },
    {
      "cell_type": "markdown",
      "source": [
        "Rajesh and Ram are having a conflict on the maximum marks that they have scored in all the exams conducted in the past year. The one having scored the maximum gets a treat from the other. They decide to go through their test papers and record their highest marks. You are Rajesh’s best friend and as he has tutions to attend, he gives you all his test papers and asks you to find out the maximum marks that he has scored among all the marks in all exams. He promises you a treat if he wins the bet with Ram. Help Rajesh find out his highest marks.\n",
        "\n",
        "Constraints:\n",
        "\n",
        "1 <= N <= 10\n",
        "\n",
        "0 <= A[] <= 100\n",
        "\n",
        "Input Description:\n",
        "\n",
        "First line contains count of marks. Next line is the list of marks obtained by Rajesh.\n",
        "\n",
        "Output Description:\n",
        "\n",
        "Highest marks obtained by Rajesh.\n",
        "\n",
        "Sample Input :\n",
        "\n",
        "3\n",
        "\n",
        "82 96 72\n",
        "\n",
        "Sample Output :\n",
        "\n",
        "96"
      ],
      "metadata": {
        "id": "0JJVhew1tpO5"
      }
    },
    {
      "cell_type": "code",
      "source": [
        "n = int(input())\n",
        "l = list(map(int,input().split()))\n",
        "print(max(l))"
      ],
      "metadata": {
        "colab": {
          "base_uri": "https://localhost:8080/"
        },
        "id": "y56Ha8ZRtncj",
        "outputId": "046991b9-3402-4123-b49f-e3748e06ce9d"
      },
      "execution_count": null,
      "outputs": [
        {
          "output_type": "stream",
          "name": "stdout",
          "text": [
            "3\n",
            "82 96 72\n",
            "96\n"
          ]
        }
      ]
    },
    {
      "cell_type": "markdown",
      "source": [
        "Input Description:\n",
        "Dimensions of the matrix m and n, followed by the elements of the matrix.\n",
        "\n",
        "Output Description:\n",
        "Matrix sorted in ascending order\n",
        "\n",
        "Sample Input :\n",
        "\n",
        "3 3\n",
        "\n",
        "87 21 34\n",
        "\n",
        "89 32 78\n",
        "\n",
        "12 23 45\n",
        "\n",
        "Sample Output :\n",
        "\n",
        "12 21 23\n",
        "\n",
        "32 34 45\n",
        "\n",
        "78 87 89"
      ],
      "metadata": {
        "id": "fV9Fn89vtm-U"
      }
    },
    {
      "cell_type": "code",
      "source": [
        "m,n = input().split()\n",
        "l2 = []\n",
        "l3 = []\n",
        "a = int(m)\n",
        "b = int(n)\n",
        "for i in range(a):\n",
        "    l = list(map(int,input().split()))\n",
        "    l3.append(l)\n",
        "for i in range(a):\n",
        "  for j in range(b):\n",
        "    l2.append(l3[i][j])\n",
        "l2.sort()\n",
        "k = 0\n",
        "for i in range(a):\n",
        "  for j in range(b):\n",
        "    l3[i][j] = l2[k]\n",
        "    k = k + 1\n",
        "for i in l3:\n",
        "  print(*i)"
      ],
      "metadata": {
        "colab": {
          "base_uri": "https://localhost:8080/"
        },
        "id": "qP4xiQ8Xt_LO",
        "outputId": "b6bacc8c-85b9-437a-da97-ed40aec8496a"
      },
      "execution_count": null,
      "outputs": [
        {
          "output_type": "stream",
          "name": "stdout",
          "text": [
            "3 3\n",
            "87 21 34\n",
            "32 34 45\n",
            "78 87 89\n",
            "21 32 34\n",
            "34 45 78\n",
            "87 87 89\n"
          ]
        }
      ]
    },
    {
      "cell_type": "markdown",
      "source": [
        "You are given given task is to print whether array is ‘majestic’ or not.A ‘majsetic’ array is an array whose sum of first three number is equal to last three number.\n",
        "\n",
        "Input Description:\n",
        "\n",
        "You are given a number ‘n’,Next line contains ‘n’ space separated\n",
        "\n",
        "Output Description:\n",
        "\n",
        "Print 1 if array is majestic and 0 if it is not\n",
        "\n",
        "Sample Input :\n",
        "\n",
        "7\n",
        "\n",
        "1 2 3 4 6 0 0\n",
        "\n",
        "Sample Output :\n",
        "\n",
        "1"
      ],
      "metadata": {
        "id": "lX2NF0I1uM80"
      }
    },
    {
      "cell_type": "code",
      "source": [
        "n = int(input())\n",
        "a = list(map(int,input().split()))\n",
        "b = a[0]+a[1]+a[2]\n",
        "c = a[-1]+a[-2]+a[-3]\n",
        "if b == c:\n",
        "  print(1)\n",
        "else:\n",
        "  print(0)"
      ],
      "metadata": {
        "colab": {
          "base_uri": "https://localhost:8080/"
        },
        "id": "K0_df9SNuVkq",
        "outputId": "b8802ad3-4b71-4ecd-89e9-1fee86cde9aa"
      },
      "execution_count": null,
      "outputs": [
        {
          "output_type": "stream",
          "name": "stdout",
          "text": [
            "7\n",
            "1 2 3 4 6 0 0\n",
            "1\n"
          ]
        }
      ]
    },
    {
      "cell_type": "markdown",
      "source": [
        "Given a number N, print the odd digits in the number(space seperated) or print -1 if there is no odd digit in the given number.\n",
        "\n",
        "Input Size : N <= 100000\n",
        "\n",
        "Sample Testcase :\n",
        "\n",
        "INPUT\n",
        "\n",
        "2143\n",
        "\n",
        "OUTPUT\n",
        "\n",
        "1 3"
      ],
      "metadata": {
        "id": "BedNoPljuiOO"
      }
    },
    {
      "cell_type": "code",
      "source": [
        "N = input()\n",
        "a = []\n",
        "for i in N:\n",
        "  b = int(i)\n",
        "  if b%2 == 0:\n",
        "    pass\n",
        "  else:\n",
        "    a.append(i)\n",
        "if len(a) > 0:\n",
        "  print(*a)\n",
        "else:\n",
        "  print(-1)"
      ],
      "metadata": {
        "colab": {
          "base_uri": "https://localhost:8080/"
        },
        "id": "MWK7gP5bummH",
        "outputId": "5e17afd5-0253-452b-a666-c8664e34bc7b"
      },
      "execution_count": null,
      "outputs": [
        {
          "output_type": "stream",
          "name": "stdout",
          "text": [
            "2143\n",
            "1 3\n"
          ]
        }
      ]
    }
  ]
}